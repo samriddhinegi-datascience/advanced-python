{
  "nbformat": 4,
  "nbformat_minor": 0,
  "metadata": {
    "colab": {
      "provenance": []
    },
    "kernelspec": {
      "name": "python3",
      "display_name": "Python 3"
    },
    "language_info": {
      "name": "python"
    }
  },
  "cells": [
    {
      "cell_type": "code",
      "execution_count": null,
      "metadata": {
        "colab": {
          "base_uri": "https://localhost:8080/"
        },
        "id": "EnQq2YMqii81",
        "outputId": "4c1ed18b-3463-4163-d157-0ceebddb4532"
      },
      "outputs": [
        {
          "output_type": "stream",
          "name": "stdout",
          "text": [
            "['hin', 'eng', 'math', 'sst', 'sans']\n"
          ]
        }
      ],
      "source": [
        "crs=[\"hin\",\"eng\",\"math\",\"sst\"]\n",
        "crs.append(\"sans\")\n",
        "print(crs)"
      ]
    },
    {
      "cell_type": "code",
      "source": [
        "crs=[\"hin\",\"eng\",\"math\",\"sst\"]\n",
        "crs.insert(-0,\"sans\")\n",
        "print(crs)"
      ],
      "metadata": {
        "colab": {
          "base_uri": "https://localhost:8080/"
        },
        "id": "y0HvK7Zpi7LY",
        "outputId": "ab0721b0-78d3-4ddd-f717-a78c58773216"
      },
      "execution_count": null,
      "outputs": [
        {
          "output_type": "stream",
          "name": "stdout",
          "text": [
            "['sans', 'hin', 'eng', 'math', 'sst']\n"
          ]
        }
      ]
    },
    {
      "cell_type": "code",
      "source": [
        "crs=[\"hin\",\"eng\",\"math\",\"sst\"]\n",
        "crs2=[\"sci\",\"evs\"]\n",
        "crs.insert(-0,crs2)\n",
        "print(crs)"
      ],
      "metadata": {
        "colab": {
          "base_uri": "https://localhost:8080/"
        },
        "id": "G37yrpKIjXO5",
        "outputId": "3fbbf9ef-81e3-4d55-d685-28a8ee7867d5"
      },
      "execution_count": null,
      "outputs": [
        {
          "output_type": "stream",
          "name": "stdout",
          "text": [
            "[['sci', 'evs'], 'hin', 'eng', 'math', 'sst']\n"
          ]
        }
      ]
    },
    {
      "cell_type": "code",
      "source": [
        "crs=[\"hin\",\"eng\",\"math\",\"sst\"]\n",
        "crs2=[\"sci\",\"evs\"]\n",
        "crs.extend(crs2)\n",
        "print(crs)"
      ],
      "metadata": {
        "colab": {
          "base_uri": "https://localhost:8080/"
        },
        "id": "hGssOOBpjzd7",
        "outputId": "fb592bb1-6783-4d1a-fac8-4161984abb19"
      },
      "execution_count": null,
      "outputs": [
        {
          "output_type": "stream",
          "name": "stdout",
          "text": [
            "['hin', 'eng', 'math', 'sst', 'sci', 'evs']\n"
          ]
        }
      ]
    },
    {
      "cell_type": "code",
      "source": [],
      "metadata": {
        "id": "anWaknCBkV7a"
      },
      "execution_count": null,
      "outputs": []
    },
    {
      "cell_type": "code",
      "source": [
        "crs=[\"hin\",\"eng\",\"math\",\"sst\"]\n",
        "crs2=[\"sci\",\"evs\"]\n",
        "crs_new=crs2+crs\n",
        "print(crs_new)"
      ],
      "metadata": {
        "colab": {
          "base_uri": "https://localhost:8080/"
        },
        "id": "asOrI3tlkVnE",
        "outputId": "95d9bceb-c982-4d3b-c7b9-c0f36005e8bd"
      },
      "execution_count": null,
      "outputs": [
        {
          "output_type": "stream",
          "name": "stdout",
          "text": [
            "['sci', 'evs', 'hin', 'eng', 'math', 'sst']\n"
          ]
        }
      ]
    },
    {
      "cell_type": "code",
      "source": [
        "crs=[\"hin\",\"eng\",\"math\",\"sst\"]\n",
        "crs2=[\"sci\",\"evs\"]\n",
        "crs_new=crs+crs2\n",
        "print(crs_new)"
      ],
      "metadata": {
        "colab": {
          "base_uri": "https://localhost:8080/"
        },
        "id": "9IBOZMRIkgl0",
        "outputId": "856fbe97-fb54-4611-a27d-ca92166d4880"
      },
      "execution_count": null,
      "outputs": [
        {
          "output_type": "stream",
          "name": "stdout",
          "text": [
            "['hin', 'eng', 'math', 'sst', 'sci', 'evs']\n"
          ]
        }
      ]
    },
    {
      "cell_type": "code",
      "source": [
        "crs=[\"hin\",\"eng\",\"math\",\"sst\"]\n",
        "crs2=[\"sci\",\"evs\"]\n",
        "crs.remove(\"hin\")\n",
        "print(crs)"
      ],
      "metadata": {
        "colab": {
          "base_uri": "https://localhost:8080/"
        },
        "id": "MpTvQ864kzee",
        "outputId": "51ad396e-6cd2-4f99-9dd0-2f42b792f322"
      },
      "execution_count": null,
      "outputs": [
        {
          "output_type": "stream",
          "name": "stdout",
          "text": [
            "['eng', 'math', 'sst']\n"
          ]
        }
      ]
    },
    {
      "cell_type": "code",
      "source": [
        "crs=[\"hin\",\"eng\",\"math\",\"sst\"]\n",
        "crs2=[\"sci\",\"evs\"]\n",
        "crs=crs+crs2\n",
        "print(crs)\n",
        "crs.remove(\"evs\")\n",
        "print(crs)"
      ],
      "metadata": {
        "colab": {
          "base_uri": "https://localhost:8080/"
        },
        "id": "KfrdKROglIR9",
        "outputId": "eaa86fdf-ae44-43a3-fde7-69ff7f7470c7"
      },
      "execution_count": null,
      "outputs": [
        {
          "output_type": "stream",
          "name": "stdout",
          "text": [
            "['hin', 'eng', 'math', 'sst', 'sci', 'evs']\n",
            "['hin', 'eng', 'math', 'sst', 'sci']\n"
          ]
        }
      ]
    },
    {
      "cell_type": "code",
      "source": [
        "crs=[\"hin\",\"eng\",\"math\",\"sst\"]\n",
        "crs.pop()\n",
        "print(crs)\n",
        "\n"
      ],
      "metadata": {
        "colab": {
          "base_uri": "https://localhost:8080/"
        },
        "id": "zSxAutYJlbfw",
        "outputId": "c7599add-722c-4456-fbc5-5c5a8d1c3f6b"
      },
      "execution_count": null,
      "outputs": [
        {
          "output_type": "stream",
          "name": "stdout",
          "text": [
            "['hin', 'eng', 'math']\n"
          ]
        }
      ]
    },
    {
      "cell_type": "code",
      "source": [
        "crs=[\"hin\",\"eng\",\"math\",\"sst\"]\n",
        "crs.pop(0)\n",
        "print(crs)"
      ],
      "metadata": {
        "colab": {
          "base_uri": "https://localhost:8080/"
        },
        "id": "68-ij3_wlYNn",
        "outputId": "51a52668-45f8-4b8a-9760-1e547336a6bb"
      },
      "execution_count": null,
      "outputs": [
        {
          "output_type": "stream",
          "name": "stdout",
          "text": [
            "['eng', 'math', 'sst']\n"
          ]
        }
      ]
    },
    {
      "cell_type": "code",
      "source": [
        "crs=[\"hin\",\"eng\",\"math\",\"sst\"]\n",
        "print(crs.pop()==crs.pop(3))"
      ],
      "metadata": {
        "colab": {
          "base_uri": "https://localhost:8080/",
          "height": 159
        },
        "id": "5YN8M1rpl7pP",
        "outputId": "9b9d3192-61b2-47e6-8146-4d2f83f65df9"
      },
      "execution_count": null,
      "outputs": [
        {
          "output_type": "error",
          "ename": "IndexError",
          "evalue": "pop index out of range",
          "traceback": [
            "\u001b[0;31m---------------------------------------------------------------------------\u001b[0m",
            "\u001b[0;31mIndexError\u001b[0m                                Traceback (most recent call last)",
            "\u001b[0;32m<ipython-input-45-0b53cf31d34c>\u001b[0m in \u001b[0;36m<cell line: 0>\u001b[0;34m()\u001b[0m\n\u001b[1;32m      1\u001b[0m \u001b[0mcrs\u001b[0m\u001b[0;34m=\u001b[0m\u001b[0;34m[\u001b[0m\u001b[0;34m\"hin\"\u001b[0m\u001b[0;34m,\u001b[0m\u001b[0;34m\"eng\"\u001b[0m\u001b[0;34m,\u001b[0m\u001b[0;34m\"math\"\u001b[0m\u001b[0;34m,\u001b[0m\u001b[0;34m\"sst\"\u001b[0m\u001b[0;34m]\u001b[0m\u001b[0;34m\u001b[0m\u001b[0;34m\u001b[0m\u001b[0m\n\u001b[0;32m----> 2\u001b[0;31m \u001b[0mprint\u001b[0m\u001b[0;34m(\u001b[0m\u001b[0mcrs\u001b[0m\u001b[0;34m.\u001b[0m\u001b[0mpop\u001b[0m\u001b[0;34m(\u001b[0m\u001b[0;34m)\u001b[0m\u001b[0;34m==\u001b[0m\u001b[0mcrs\u001b[0m\u001b[0;34m.\u001b[0m\u001b[0mpop\u001b[0m\u001b[0;34m(\u001b[0m\u001b[0;36m3\u001b[0m\u001b[0;34m)\u001b[0m\u001b[0;34m)\u001b[0m\u001b[0;34m\u001b[0m\u001b[0;34m\u001b[0m\u001b[0m\n\u001b[0m",
            "\u001b[0;31mIndexError\u001b[0m: pop index out of range"
          ]
        }
      ]
    },
    {
      "cell_type": "code",
      "source": [
        "crs=[\"hin\",\"eng\",\"math\",\"sst\"]\n",
        "popped=crs.pop()\n",
        "print(popped)"
      ],
      "metadata": {
        "colab": {
          "base_uri": "https://localhost:8080/"
        },
        "id": "bFboUnENmpc4",
        "outputId": "dea500de-0ee7-4520-8774-4c7b3344c9df"
      },
      "execution_count": null,
      "outputs": [
        {
          "output_type": "stream",
          "name": "stdout",
          "text": [
            "sst\n"
          ]
        }
      ]
    },
    {
      "cell_type": "code",
      "source": [
        "crs=[\"hin\",\"eng\",\"math\",\"sst\"]\n",
        "crs.reverse()\n",
        "print(crs)"
      ],
      "metadata": {
        "colab": {
          "base_uri": "https://localhost:8080/"
        },
        "id": "vMzXLdXcm57k",
        "outputId": "39b3f718-8e7a-4e92-c095-cea16aab8805"
      },
      "execution_count": null,
      "outputs": [
        {
          "output_type": "stream",
          "name": "stdout",
          "text": [
            "['sst', 'math', 'eng', 'hin']\n"
          ]
        }
      ]
    },
    {
      "cell_type": "code",
      "source": [
        "crs=[\"hin\",\"eng\",\"math\",\"sst\"]\n",
        "crs.sort()\n",
        "print(crs)"
      ],
      "metadata": {
        "colab": {
          "base_uri": "https://localhost:8080/"
        },
        "id": "w6L3PiQTm_KR",
        "outputId": "7e6ac6da-3b66-4604-c6eb-a064daa35243"
      },
      "execution_count": null,
      "outputs": [
        {
          "output_type": "stream",
          "name": "stdout",
          "text": [
            "['eng', 'hin', 'math', 'sst']\n"
          ]
        }
      ]
    },
    {
      "cell_type": "code",
      "source": [
        "crs=[\"hin\",\"eng\",\"math\",\"sst\"]\n",
        "crs.sort(reverse=True)\n",
        "print(crs)"
      ],
      "metadata": {
        "colab": {
          "base_uri": "https://localhost:8080/"
        },
        "id": "wMIxgISinpvl",
        "outputId": "2a8a2c09-5374-4478-fb63-64af8ffe591b"
      },
      "execution_count": null,
      "outputs": [
        {
          "output_type": "stream",
          "name": "stdout",
          "text": [
            "['sst', 'math', 'hin', 'eng']\n"
          ]
        }
      ]
    },
    {
      "cell_type": "code",
      "source": [
        "crs=[\"hin\",\"eng\",\"math\",\"sst\"]\n",
        "crs.sort()\n",
        "crs.reverse()\n",
        "print(crs)"
      ],
      "metadata": {
        "colab": {
          "base_uri": "https://localhost:8080/"
        },
        "id": "F_TMCp3Gn0lI",
        "outputId": "a79bbbd4-59be-49fb-9e7b-307479c7d31d"
      },
      "execution_count": null,
      "outputs": [
        {
          "output_type": "stream",
          "name": "stdout",
          "text": [
            "['sst', 'math', 'hin', 'eng']\n"
          ]
        }
      ]
    },
    {
      "cell_type": "code",
      "source": [
        "crs=[4, 3, 2, 1, 5]\n",
        "crs.sort()\n",
        "# crs.reverse()\n",
        "print(crs)"
      ],
      "metadata": {
        "colab": {
          "base_uri": "https://localhost:8080/"
        },
        "id": "H6_RtDfNoDHF",
        "outputId": "5b18b96b-b99b-4b2a-8c96-259aaa54a03a"
      },
      "execution_count": null,
      "outputs": [
        {
          "output_type": "stream",
          "name": "stdout",
          "text": [
            "[1, 2, 3, 4, 5]\n"
          ]
        }
      ]
    },
    {
      "cell_type": "code",
      "source": [
        "crs=[4, 3, 2, 1, 5]\n",
        "# crs.sort()\n",
        "crs.reverse()\n",
        "print(crs)"
      ],
      "metadata": {
        "colab": {
          "base_uri": "https://localhost:8080/"
        },
        "id": "7aCCqRaxoM4o",
        "outputId": "77103586-5372-4793-d804-ad55d2bffec2"
      },
      "execution_count": null,
      "outputs": [
        {
          "output_type": "stream",
          "name": "stdout",
          "text": [
            "[5, 1, 2, 3, 4]\n"
          ]
        }
      ]
    },
    {
      "cell_type": "code",
      "source": [
        "crs=[4, 3, 2, 1, 5]\n",
        "crs.sort()\n",
        "crs.reverse()\n",
        "print(crs)"
      ],
      "metadata": {
        "colab": {
          "base_uri": "https://localhost:8080/"
        },
        "id": "FRkM56TyoQG9",
        "outputId": "dd6f64fc-47c2-402d-c547-29587ce19c12"
      },
      "execution_count": null,
      "outputs": [
        {
          "output_type": "stream",
          "name": "stdout",
          "text": [
            "[5, 4, 3, 2, 1]\n"
          ]
        }
      ]
    },
    {
      "cell_type": "code",
      "source": [
        "crs=[4, 3, 2, 1, 5]\n",
        "crs.sort(reverse=True)\n",
        "print(crs)"
      ],
      "metadata": {
        "colab": {
          "base_uri": "https://localhost:8080/"
        },
        "id": "sxEcTyCNoVqb",
        "outputId": "5b71f311-96ab-470a-ea71-739b4535553d"
      },
      "execution_count": null,
      "outputs": [
        {
          "output_type": "stream",
          "name": "stdout",
          "text": [
            "[5, 4, 3, 2, 1]\n"
          ]
        }
      ]
    },
    {
      "cell_type": "code",
      "source": [
        "crs=[\"hin\",\"eng\",\"math\",\"sst\"]\n",
        "\n",
        "print(crs.index(\"eng\"))"
      ],
      "metadata": {
        "colab": {
          "base_uri": "https://localhost:8080/"
        },
        "id": "wMNPvNOroqoM",
        "outputId": "06d343fd-3c1d-47fb-f062-1a5ad39d5e9d"
      },
      "execution_count": null,
      "outputs": [
        {
          "output_type": "stream",
          "name": "stdout",
          "text": [
            "1\n"
          ]
        }
      ]
    },
    {
      "cell_type": "code",
      "source": [
        "crs=[\"hin\",\"eng\",\"math\",\"sst\"]\n",
        "\n",
        "print(crs.index(\"bio\"))"
      ],
      "metadata": {
        "colab": {
          "base_uri": "https://localhost:8080/",
          "height": 176
        },
        "id": "tPrdMcm2oyK4",
        "outputId": "045d9ed5-a80b-46a8-8a66-6f228d4f0817"
      },
      "execution_count": null,
      "outputs": [
        {
          "output_type": "error",
          "ename": "ValueError",
          "evalue": "'bio' is not in list",
          "traceback": [
            "\u001b[0;31m---------------------------------------------------------------------------\u001b[0m",
            "\u001b[0;31mValueError\u001b[0m                                Traceback (most recent call last)",
            "\u001b[0;32m<ipython-input-59-c7611e801650>\u001b[0m in \u001b[0;36m<cell line: 0>\u001b[0;34m()\u001b[0m\n\u001b[1;32m      1\u001b[0m \u001b[0mcrs\u001b[0m\u001b[0;34m=\u001b[0m\u001b[0;34m[\u001b[0m\u001b[0;34m\"hin\"\u001b[0m\u001b[0;34m,\u001b[0m\u001b[0;34m\"eng\"\u001b[0m\u001b[0;34m,\u001b[0m\u001b[0;34m\"math\"\u001b[0m\u001b[0;34m,\u001b[0m\u001b[0;34m\"sst\"\u001b[0m\u001b[0;34m]\u001b[0m\u001b[0;34m\u001b[0m\u001b[0;34m\u001b[0m\u001b[0m\n\u001b[1;32m      2\u001b[0m \u001b[0;34m\u001b[0m\u001b[0m\n\u001b[0;32m----> 3\u001b[0;31m \u001b[0mprint\u001b[0m\u001b[0;34m(\u001b[0m\u001b[0mcrs\u001b[0m\u001b[0;34m.\u001b[0m\u001b[0mindex\u001b[0m\u001b[0;34m(\u001b[0m\u001b[0;34m\"bio\"\u001b[0m\u001b[0;34m)\u001b[0m\u001b[0;34m)\u001b[0m\u001b[0;34m\u001b[0m\u001b[0;34m\u001b[0m\u001b[0m\n\u001b[0m",
            "\u001b[0;31mValueError\u001b[0m: 'bio' is not in list"
          ]
        }
      ]
    },
    {
      "cell_type": "code",
      "source": [
        "crs=[\"hin\",\"eng\",\"math\",\"sst\"]\n",
        "\n",
        "print(\"bio\" in crs)\n",
        "print(\"hin\" in crs)"
      ],
      "metadata": {
        "colab": {
          "base_uri": "https://localhost:8080/"
        },
        "id": "FQAargmDo1oE",
        "outputId": "71dd51a2-f45d-4f9b-ec03-72cd10935bda"
      },
      "execution_count": null,
      "outputs": [
        {
          "output_type": "stream",
          "name": "stdout",
          "text": [
            "False\n",
            "True\n"
          ]
        }
      ]
    },
    {
      "cell_type": "code",
      "source": [
        "crs=[\"hin\",\"eng\",\"math\",\"sst\"]\n",
        "for crsname in crs:\n",
        "  print(crsname)"
      ],
      "metadata": {
        "colab": {
          "base_uri": "https://localhost:8080/"
        },
        "id": "stWUYskeo9AW",
        "outputId": "8bf1f452-ede6-4bba-e87d-415e2455551b"
      },
      "execution_count": null,
      "outputs": [
        {
          "output_type": "stream",
          "name": "stdout",
          "text": [
            "hin\n",
            "eng\n",
            "math\n",
            "sst\n"
          ]
        }
      ]
    },
    {
      "cell_type": "code",
      "source": [
        "crs=[\"hin\",\"eng\",\"math\",\"sst\"]\n",
        "for index, crsname in ennumerate(crs):\n",
        "  print(index, crsname)"
      ],
      "metadata": {
        "colab": {
          "base_uri": "https://localhost:8080/",
          "height": 176
        },
        "id": "CEKPVRgrpLB0",
        "outputId": "f77d8751-8b32-46ee-b194-6a450e982d91"
      },
      "execution_count": null,
      "outputs": [
        {
          "output_type": "error",
          "ename": "NameError",
          "evalue": "name 'ennumerate' is not defined",
          "traceback": [
            "\u001b[0;31m---------------------------------------------------------------------------\u001b[0m",
            "\u001b[0;31mNameError\u001b[0m                                 Traceback (most recent call last)",
            "\u001b[0;32m<ipython-input-62-cd6ff567f945>\u001b[0m in \u001b[0;36m<cell line: 0>\u001b[0;34m()\u001b[0m\n\u001b[1;32m      1\u001b[0m \u001b[0mcrs\u001b[0m\u001b[0;34m=\u001b[0m\u001b[0;34m[\u001b[0m\u001b[0;34m\"hin\"\u001b[0m\u001b[0;34m,\u001b[0m\u001b[0;34m\"eng\"\u001b[0m\u001b[0;34m,\u001b[0m\u001b[0;34m\"math\"\u001b[0m\u001b[0;34m,\u001b[0m\u001b[0;34m\"sst\"\u001b[0m\u001b[0;34m]\u001b[0m\u001b[0;34m\u001b[0m\u001b[0;34m\u001b[0m\u001b[0m\n\u001b[0;32m----> 2\u001b[0;31m \u001b[0;32mfor\u001b[0m \u001b[0mindex\u001b[0m\u001b[0;34m,\u001b[0m \u001b[0mcrsname\u001b[0m \u001b[0;32min\u001b[0m \u001b[0mennumerate\u001b[0m\u001b[0;34m(\u001b[0m\u001b[0mcrs\u001b[0m\u001b[0;34m)\u001b[0m\u001b[0;34m:\u001b[0m\u001b[0;34m\u001b[0m\u001b[0;34m\u001b[0m\u001b[0m\n\u001b[0m\u001b[1;32m      3\u001b[0m   \u001b[0mprint\u001b[0m\u001b[0;34m(\u001b[0m\u001b[0mindex\u001b[0m\u001b[0;34m,\u001b[0m \u001b[0mcrsname\u001b[0m\u001b[0;34m)\u001b[0m\u001b[0;34m\u001b[0m\u001b[0;34m\u001b[0m\u001b[0m\n",
            "\u001b[0;31mNameError\u001b[0m: name 'ennumerate' is not defined"
          ]
        }
      ]
    },
    {
      "cell_type": "code",
      "source": [
        "crs=[\"hin\",\"eng\",\"math\",\"sst\"]\n",
        "for index, crsname in enumerate(crs):\n",
        "  print(index, crsname)"
      ],
      "metadata": {
        "colab": {
          "base_uri": "https://localhost:8080/"
        },
        "id": "WwMlypmbpdo_",
        "outputId": "8b8da06d-3397-42e6-eda9-231522bee001"
      },
      "execution_count": null,
      "outputs": [
        {
          "output_type": "stream",
          "name": "stdout",
          "text": [
            "0 hin\n",
            "1 eng\n",
            "2 math\n",
            "3 sst\n"
          ]
        }
      ]
    },
    {
      "cell_type": "code",
      "source": [
        "crs=[\"hin\",\"eng\",\"math\",\"sst\"]\n",
        "for index, crsname in enumerate(crs,start=1):\n",
        "  print(index, crsname)"
      ],
      "metadata": {
        "colab": {
          "base_uri": "https://localhost:8080/"
        },
        "id": "_Zx8gfdgphzh",
        "outputId": "6728f8e4-c56d-4228-d643-286a87062cf9"
      },
      "execution_count": null,
      "outputs": [
        {
          "output_type": "stream",
          "name": "stdout",
          "text": [
            "1 hin\n",
            "2 eng\n",
            "3 math\n",
            "4 sst\n"
          ]
        }
      ]
    },
    {
      "cell_type": "code",
      "source": [
        "crs=[\"hin\",\"eng\",\"math\",\"sst\"]\n",
        "crs_new=\", \".join(crs)\n",
        "print(crs_new)"
      ],
      "metadata": {
        "colab": {
          "base_uri": "https://localhost:8080/"
        },
        "id": "38LgjSM-ptyq",
        "outputId": "4500b977-36e8-4e47-ce99-2aa0a0e7b044"
      },
      "execution_count": null,
      "outputs": [
        {
          "output_type": "stream",
          "name": "stdout",
          "text": [
            "hin,eng,math,sst\n"
          ]
        }
      ]
    },
    {
      "cell_type": "code",
      "source": [
        "crs=[\"hin\",\"eng\",\"math\",\"sst\"]\n",
        "crs_str=\",\".join(crs)\n",
        "print(crs_str)"
      ],
      "metadata": {
        "colab": {
          "base_uri": "https://localhost:8080/"
        },
        "id": "0cUMvhpyqH5h",
        "outputId": "7fe05b90-2ade-4218-dfa6-a7697b314441"
      },
      "execution_count": null,
      "outputs": [
        {
          "output_type": "stream",
          "name": "stdout",
          "text": [
            "hin,eng,math,sst\n"
          ]
        }
      ]
    },
    {
      "cell_type": "code",
      "source": [
        "crs=[\"hin\",\"eng\",\"math\",\"sst\"]\n",
        "crs_str=\", \".join(crs)\n",
        "print(crs_str)"
      ],
      "metadata": {
        "colab": {
          "base_uri": "https://localhost:8080/"
        },
        "id": "N5HiZJN7qXpn",
        "outputId": "ba400b71-50d3-46f5-f0e7-b7252d099655"
      },
      "execution_count": null,
      "outputs": [
        {
          "output_type": "stream",
          "name": "stdout",
          "text": [
            "hin, eng, math, sst\n"
          ]
        }
      ]
    },
    {
      "cell_type": "code",
      "source": [
        "crs=[\"hin\",\"eng\",\"math\",\"sst\"]\n",
        "crs_str=\" =>0, \".join(crs)\n",
        "print(crs_str)\n"
      ],
      "metadata": {
        "colab": {
          "base_uri": "https://localhost:8080/"
        },
        "id": "8dPKCZmlqbYy",
        "outputId": "d8f9ec4a-1f9c-4a7c-fd56-e25267efecb3"
      },
      "execution_count": null,
      "outputs": [
        {
          "output_type": "stream",
          "name": "stdout",
          "text": [
            "hin => eng => math => sst\n"
          ]
        }
      ]
    },
    {
      "cell_type": "code",
      "source": [
        "student={\"name\":\"abhi\", \"age\":32, \"branch\":\"ece\", \"crs\":[\"python\",\"dld\"]}\n",
        "print(student)\n",
        "# print(student[\"name\"])\n",
        "# print(student[\"age\"])\n",
        "# print(student[\"crs\"])\n",
        "print(student.get(\"name\"))\n",
        "print(student.get(\"age\"))\n",
        "print(student.get(\"phone\", \"unavailable\"))"
      ],
      "metadata": {
        "colab": {
          "base_uri": "https://localhost:8080/"
        },
        "id": "yaFbgEQixXoZ",
        "outputId": "a48e46ba-d367-4d56-f965-8a1afe51c6db"
      },
      "execution_count": null,
      "outputs": [
        {
          "output_type": "stream",
          "name": "stdout",
          "text": [
            "{'name': 'abhi', 'age': 32, 'branch': 'ece', 'crs': ['python', 'dld']}\n",
            "abhi\n",
            "32\n",
            "unavailable\n"
          ]
        }
      ]
    },
    {
      "cell_type": "code",
      "source": [
        "student={\"name\":\"abhi\", \"age\":32, \"branch\":\"ece\", \"crs\":[\"python\",\"dld\"]}\n",
        "student['phone']=30091992786\n",
        "student['name']='jenny'\n",
        "del student['age']\n",
        "print(student)\n"
      ],
      "metadata": {
        "colab": {
          "base_uri": "https://localhost:8080/"
        },
        "id": "XoFQq9_-y0e3",
        "outputId": "ec085150-749f-4fff-a3f8-480a9527d2d4"
      },
      "execution_count": null,
      "outputs": [
        {
          "output_type": "stream",
          "name": "stdout",
          "text": [
            "{'name': 'jenny', 'branch': 'ece', 'crs': ['python', 'dld'], 'phone': 30091992786}\n"
          ]
        }
      ]
    },
    {
      "cell_type": "code",
      "source": [
        "student={\"name\":\"abhi\", \"age\":32, \"branch\":\"ece\", \"crs\":[\"python\",\"dld\"]}\n",
        "student['phone']=30091992786\n",
        "student['name']='jenny'\n",
        "\n",
        "print(student)\n",
        "print(len(student))\n",
        "print(student.keys())\n",
        "print(student.values())\n",
        "print(student.items())"
      ],
      "metadata": {
        "colab": {
          "base_uri": "https://localhost:8080/"
        },
        "id": "tfzeWdx_zfkn",
        "outputId": "1d1a053b-2b4c-46fa-fca0-1b1559808936"
      },
      "execution_count": null,
      "outputs": [
        {
          "output_type": "stream",
          "name": "stdout",
          "text": [
            "{'name': 'jenny', 'age': 32, 'branch': 'ece', 'crs': ['python', 'dld'], 'phone': 30091992786}\n",
            "5\n",
            "dict_keys(['name', 'age', 'branch', 'crs', 'phone'])\n",
            "dict_values(['jenny', 32, 'ece', ['python', 'dld'], 30091992786])\n",
            "dict_items([('name', 'jenny'), ('age', 32), ('branch', 'ece'), ('crs', ['python', 'dld']), ('phone', 30091992786)])\n"
          ]
        }
      ]
    },
    {
      "cell_type": "code",
      "source": [
        "student={\"name\":\"abhi\", \"age\":32, \"branch\":\"ece\", \"crs\":[\"python\",\"dld\"]}\n",
        "student['phone']=30091992786\n",
        "student['name']='jenny'\n",
        "\n",
        "print(student)\n",
        "for keys, values in student.items():\n",
        "  print(keys,values)"
      ],
      "metadata": {
        "colab": {
          "base_uri": "https://localhost:8080/"
        },
        "id": "-54yyBnr0AEX",
        "outputId": "941f2430-e3b3-47f1-ea3f-c681451225d5"
      },
      "execution_count": null,
      "outputs": [
        {
          "output_type": "stream",
          "name": "stdout",
          "text": [
            "{'name': 'jenny', 'age': 32, 'branch': 'ece', 'crs': ['python', 'dld'], 'phone': 30091992786}\n",
            "name jenny\n",
            "age 32\n",
            "branch ece\n",
            "crs ['python', 'dld']\n",
            "phone 30091992786\n"
          ]
        }
      ]
    },
    {
      "cell_type": "code",
      "source": [
        "user='adm\n",
        "in'\n",
        "log=False\n",
        "if user=='admin' and log:\n",
        "  print('successfull login')\n",
        "else:\n",
        "  print(\"login failed\")"
      ],
      "metadata": {
        "colab": {
          "base_uri": "https://localhost:8080/"
        },
        "id": "GMwA_o7q3qeU",
        "outputId": "eb3cdacf-e448-4a69-f561-e3114860990f"
      },
      "execution_count": null,
      "outputs": [
        {
          "output_type": "stream",
          "name": "stdout",
          "text": [
            "login failed\n"
          ]
        }
      ]
    },
    {
      "cell_type": "code",
      "source": [
        "num1=[1,2,3,4,5]\n",
        "alpha=['a','b','c']\n",
        "for nums in num1:\n",
        "  for let in alpha:\n",
        "    print(let,nums)"
      ],
      "metadata": {
        "colab": {
          "base_uri": "https://localhost:8080/"
        },
        "id": "Jn6onCon-P1k",
        "outputId": "1e6ff7b7-803e-40ab-ea4c-709cb1242b61"
      },
      "execution_count": null,
      "outputs": [
        {
          "output_type": "stream",
          "name": "stdout",
          "text": [
            "a 1\n",
            "b 1\n",
            "c 1\n",
            "a 2\n",
            "b 2\n",
            "c 2\n",
            "a 3\n",
            "b 3\n",
            "c 3\n",
            "a 4\n",
            "b 4\n",
            "c 4\n",
            "a 5\n",
            "b 5\n",
            "c 5\n"
          ]
        }
      ]
    },
    {
      "cell_type": "code",
      "source": [
        "def stud_info(*args,**kwargs):\n",
        "  print(args)\n",
        "  print(kwargs)\n",
        "stud_info('edc','ac','dld',name='abhi',roll=2027)"
      ],
      "metadata": {
        "colab": {
          "base_uri": "https://localhost:8080/"
        },
        "id": "UEXM_y-FBiFz",
        "outputId": "3ad4cf03-0bdf-47de-b08e-dab24923cc32"
      },
      "execution_count": null,
      "outputs": [
        {
          "output_type": "stream",
          "name": "stdout",
          "text": [
            "('edc', 'ac', 'dld')\n",
            "{'name': 'abhi', 'roll': 2027}\n"
          ]
        }
      ]
    },
    {
      "cell_type": "code",
      "source": [
        "def stud_info(*args,**kwargs):\n",
        "  print(args)\n",
        "  print(kwargs)\n",
        "crs=['edc','ac','dld']\n",
        "info={'name':'abhi','roll':2027}\n",
        "stud_info(*crs,**\n",
        "          info)"
      ],
      "metadata": {
        "colab": {
          "base_uri": "https://localhost:8080/"
        },
        "id": "Q2vP5zW1CQRA",
        "outputId": "af8baadc-fb0d-4519-d53c-57c4421f552e"
      },
      "execution_count": null,
      "outputs": [
        {
          "output_type": "stream",
          "name": "stdout",
          "text": [
            "('edc', 'ac', 'dld')\n",
            "{'name': 'abhi', 'roll': 2027}\n"
          ]
        }
      ]
    }
  ]
}